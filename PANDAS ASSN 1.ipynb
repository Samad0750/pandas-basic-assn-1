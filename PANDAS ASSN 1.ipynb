{
 "cells": [
  {
   "cell_type": "code",
   "execution_count": 1,
   "id": "f9694792-9d41-47dc-a1cb-401061727698",
   "metadata": {},
   "outputs": [],
   "source": [
    "import pandas as pd"
   ]
  },
  {
   "cell_type": "code",
   "execution_count": 6,
   "id": "f9b318a2-4adf-4ad4-8f63-f44e82d92ead",
   "metadata": {},
   "outputs": [
    {
     "data": {
      "text/plain": [
       "0     4\n",
       "1     8\n",
       "2    15\n",
       "3    16\n",
       "4    23\n",
       "5    42\n",
       "dtype: int64"
      ]
     },
     "execution_count": 6,
     "metadata": {},
     "output_type": "execute_result"
    }
   ],
   "source": [
    "# QUESTION 1\n",
    "data=[4,8,15,16,23,42]\n",
    "pd.Series(data)"
   ]
  },
  {
   "cell_type": "code",
   "execution_count": 7,
   "id": "513a2183-95ca-4729-9733-48ebe537dff9",
   "metadata": {},
   "outputs": [
    {
     "data": {
      "text/plain": [
       "0       45\n",
       "1       43\n",
       "2    56.78\n",
       "3    samad\n",
       "4     sudh\n",
       "5     True\n",
       "6    krish\n",
       "7     6.34\n",
       "8    23443\n",
       "9     3456\n",
       "dtype: object"
      ]
     },
     "execution_count": 7,
     "metadata": {},
     "output_type": "execute_result"
    }
   ],
   "source": [
    "#QUESTION 2\n",
    "a=[45,43,56.78,'samad','sudh',True,'krish',6.34,23443,3456]\n",
    "pd.Series(a)"
   ]
  },
  {
   "cell_type": "code",
   "execution_count": 13,
   "id": "0fb34b55-cfe7-4727-870e-7c9255f3cb81",
   "metadata": {},
   "outputs": [],
   "source": [
    "data={'NAME':['ALICE','BOB','CHARLIE'],\n",
    "      'AGE':[25,30,27],\n",
    "      'GENDER':['FEMALE','MALE','FEMALE']\n",
    "       \n",
    "}\n",
    "\n"
   ]
  },
  {
   "cell_type": "code",
   "execution_count": 14,
   "id": "d5a4f620-89f2-4148-86f4-804386d7e74f",
   "metadata": {},
   "outputs": [
    {
     "data": {
      "text/html": [
       "<div>\n",
       "<style scoped>\n",
       "    .dataframe tbody tr th:only-of-type {\n",
       "        vertical-align: middle;\n",
       "    }\n",
       "\n",
       "    .dataframe tbody tr th {\n",
       "        vertical-align: top;\n",
       "    }\n",
       "\n",
       "    .dataframe thead th {\n",
       "        text-align: right;\n",
       "    }\n",
       "</style>\n",
       "<table border=\"1\" class=\"dataframe\">\n",
       "  <thead>\n",
       "    <tr style=\"text-align: right;\">\n",
       "      <th></th>\n",
       "      <th>NAME</th>\n",
       "      <th>AGE</th>\n",
       "      <th>GENDER</th>\n",
       "    </tr>\n",
       "  </thead>\n",
       "  <tbody>\n",
       "    <tr>\n",
       "      <th>0</th>\n",
       "      <td>ALICE</td>\n",
       "      <td>25</td>\n",
       "      <td>FEMALE</td>\n",
       "    </tr>\n",
       "    <tr>\n",
       "      <th>1</th>\n",
       "      <td>BOB</td>\n",
       "      <td>30</td>\n",
       "      <td>MALE</td>\n",
       "    </tr>\n",
       "    <tr>\n",
       "      <th>2</th>\n",
       "      <td>CHARLIE</td>\n",
       "      <td>27</td>\n",
       "      <td>FEMALE</td>\n",
       "    </tr>\n",
       "  </tbody>\n",
       "</table>\n",
       "</div>"
      ],
      "text/plain": [
       "      NAME  AGE  GENDER\n",
       "0    ALICE   25  FEMALE\n",
       "1      BOB   30    MALE\n",
       "2  CHARLIE   27  FEMALE"
      ]
     },
     "execution_count": 14,
     "metadata": {},
     "output_type": "execute_result"
    }
   ],
   "source": [
    "pd.DataFrame(data)"
   ]
  },
  {
   "cell_type": "markdown",
   "id": "9e446211-d07a-40f5-b554-80589551a816",
   "metadata": {},
   "source": [
    "QUESTION 4\n",
    "\n",
    "1.DataFrame is a 2D array while Series is a 1D array.\n",
    "2.For a single-column DataFrame, an index can be optional, but a Series has to have an index defined\n",
    "3.DataFrame is a tabular structure "
   ]
  },
  {
   "cell_type": "markdown",
   "id": "529bfbb9-ec4b-4266-9b86-1f122a99e6f8",
   "metadata": {},
   "source": [
    "\n",
    "\n",
    "1. pd.read_csv, pd.read_excel\n",
    "2. df.head()\n",
    "3. df.columns\n",
    "4. df.drop()\n",
    "5. df.len()\n",
    "6. df.iloc()\n",
    "7. df.dtypes\n",
    "8. df.unique()"
   ]
  },
  {
   "cell_type": "markdown",
   "id": "d404a9ed-23ff-41bb-b40b-7602ee89df51",
   "metadata": {},
   "source": [
    "QUESTION 6\n",
    "\n",
    "DataFrame and Panel are mutable.\n",
    "Series is immutable."
   ]
  },
  {
   "cell_type": "code",
   "execution_count": 18,
   "id": "5db82dc3-9415-4668-9971-545af31a6b6e",
   "metadata": {},
   "outputs": [],
   "source": [
    "month=pd.Series(['january','february','march','april','may'])\n",
    "days=pd.Series([31,28,31,30,31])\n",
    "bank_holidays=pd.Series([3,4,2,5,6])"
   ]
  },
  {
   "cell_type": "code",
   "execution_count": 34,
   "id": "b01922fe-fd31-413a-8354-95509a63dd4c",
   "metadata": {},
   "outputs": [],
   "source": [
    "data={'month':month,\n",
    "      'days':days,\n",
    "      'bank_holidays':bank_holidays\n",
    "}"
   ]
  },
  {
   "cell_type": "code",
   "execution_count": 35,
   "id": "a56a720e-b8a5-4165-9384-eaf620b6070f",
   "metadata": {},
   "outputs": [
    {
     "data": {
      "text/html": [
       "<div>\n",
       "<style scoped>\n",
       "    .dataframe tbody tr th:only-of-type {\n",
       "        vertical-align: middle;\n",
       "    }\n",
       "\n",
       "    .dataframe tbody tr th {\n",
       "        vertical-align: top;\n",
       "    }\n",
       "\n",
       "    .dataframe thead th {\n",
       "        text-align: right;\n",
       "    }\n",
       "</style>\n",
       "<table border=\"1\" class=\"dataframe\">\n",
       "  <thead>\n",
       "    <tr style=\"text-align: right;\">\n",
       "      <th></th>\n",
       "      <th>month</th>\n",
       "      <th>days</th>\n",
       "      <th>bank_holidays</th>\n",
       "    </tr>\n",
       "  </thead>\n",
       "  <tbody>\n",
       "    <tr>\n",
       "      <th>0</th>\n",
       "      <td>january</td>\n",
       "      <td>31</td>\n",
       "      <td>3</td>\n",
       "    </tr>\n",
       "    <tr>\n",
       "      <th>1</th>\n",
       "      <td>february</td>\n",
       "      <td>28</td>\n",
       "      <td>4</td>\n",
       "    </tr>\n",
       "    <tr>\n",
       "      <th>2</th>\n",
       "      <td>march</td>\n",
       "      <td>31</td>\n",
       "      <td>2</td>\n",
       "    </tr>\n",
       "    <tr>\n",
       "      <th>3</th>\n",
       "      <td>april</td>\n",
       "      <td>30</td>\n",
       "      <td>5</td>\n",
       "    </tr>\n",
       "    <tr>\n",
       "      <th>4</th>\n",
       "      <td>may</td>\n",
       "      <td>31</td>\n",
       "      <td>6</td>\n",
       "    </tr>\n",
       "  </tbody>\n",
       "</table>\n",
       "</div>"
      ],
      "text/plain": [
       "      month  days  bank_holidays\n",
       "0   january    31              3\n",
       "1  february    28              4\n",
       "2     march    31              2\n",
       "3     april    30              5\n",
       "4       may    31              6"
      ]
     },
     "execution_count": 35,
     "metadata": {},
     "output_type": "execute_result"
    }
   ],
   "source": [
    "df=pd.concat(data,axis=1)\n",
    "df"
   ]
  },
  {
   "cell_type": "code",
   "execution_count": null,
   "id": "29b944fb-3c9f-42a0-a1ba-755ada0a7fe3",
   "metadata": {},
   "outputs": [],
   "source": []
  },
  {
   "cell_type": "code",
   "execution_count": null,
   "id": "64f5cbad-d80d-48f6-a101-1ab4a75eb177",
   "metadata": {},
   "outputs": [],
   "source": []
  }
 ],
 "metadata": {
  "kernelspec": {
   "display_name": "Python 3 (ipykernel)",
   "language": "python",
   "name": "python3"
  },
  "language_info": {
   "codemirror_mode": {
    "name": "ipython",
    "version": 3
   },
   "file_extension": ".py",
   "mimetype": "text/x-python",
   "name": "python",
   "nbconvert_exporter": "python",
   "pygments_lexer": "ipython3",
   "version": "3.10.8"
  }
 },
 "nbformat": 4,
 "nbformat_minor": 5
}
